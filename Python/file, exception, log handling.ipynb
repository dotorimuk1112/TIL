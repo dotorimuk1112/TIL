{
 "cells": [
  {
   "cell_type": "markdown",
   "id": "d31bc288",
   "metadata": {},
   "source": [
    "# 1. Exception"
   ]
  },
  {
   "cell_type": "markdown",
   "id": "f724cdb2",
   "metadata": {},
   "source": [
    "예외 : 사용자/개발자가 프로그램 사용시 할 수 있는 실수를 예외 처리하는 것\n",
    "       ex) 없는 파일 호출\n",
    "       ex) 게임 이상 종료\n",
    "       - exception handling 필요"
   ]
  },
  {
   "cell_type": "markdown",
   "id": "4daeb6b5",
   "metadata": {},
   "source": [
    "try:\n",
    "    예외 발생 가능 코드\n",
    "except <Exception Type>:\n",
    "    예외 발생시 대응 코드"
   ]
  },
  {
   "cell_type": "code",
   "execution_count": 2,
   "id": "af2ae1c7",
   "metadata": {},
   "outputs": [
    {
     "name": "stdout",
     "output_type": "stream",
     "text": [
      "Not divided by 0\n",
      "1 10\n",
      "2 5\n",
      "3 3\n",
      "4 2\n",
      "5 2\n",
      "6 1\n",
      "7 1\n",
      "8 1\n",
      "9 1\n"
     ]
    }
   ],
   "source": [
    "for i in range(10):\n",
    "    try:\n",
    "        print(i, 10//i)\n",
    "    except ZeroDivisionError: #bulit-in error\n",
    "        print('Not divided by 0')"
   ]
  },
  {
   "cell_type": "code",
   "execution_count": 4,
   "id": "41c0f783",
   "metadata": {},
   "outputs": [
    {
     "name": "stdout",
     "output_type": "stream",
     "text": [
      "Not divided by 0\n",
      "1 10\n",
      "2\n",
      "2 5\n",
      "3\n",
      "3 3\n",
      "4\n",
      "4 2\n",
      "5\n",
      "5 2\n",
      "list index out of range\n",
      "6 1\n",
      "list index out of range\n",
      "7 1\n",
      "list index out of range\n",
      "8 1\n",
      "list index out of range\n",
      "9 1\n",
      "list index out of range\n"
     ]
    }
   ],
   "source": [
    "a = [1,2,3,4,5]\n",
    "for i in range(10):\n",
    "    try:\n",
    "        print(i, 10//i)\n",
    "        print(a[i])\n",
    "    except ZeroDivisionError: #bulit-in error\n",
    "        print('Not divided by 0')\n",
    "    except IndexError as e:\n",
    "        print(e)"
   ]
  },
  {
   "cell_type": "markdown",
   "id": "8e13d6e5",
   "metadata": {},
   "source": [
    "## raise 구문"
   ]
  },
  {
   "cell_type": "code",
   "execution_count": 6,
   "id": "fd6a7086",
   "metadata": {
    "scrolled": true
   },
   "outputs": [
    {
     "name": "stdout",
     "output_type": "stream",
     "text": [
      "정수값 입력1\n",
      "정수로 변환된 숫자 1\n",
      "정수값 입력2\n",
      "정수로 변환된 숫자 2\n",
      "정수값 입력3\n",
      "정수로 변환된 숫자 3\n",
      "정수값 입력a\n"
     ]
    },
    {
     "ename": "ValueError",
     "evalue": "정수가 아님",
     "output_type": "error",
     "traceback": [
      "\u001b[1;31m---------------------------------------------------------------------------\u001b[0m",
      "\u001b[1;31mValueError\u001b[0m                                Traceback (most recent call last)",
      "\u001b[1;32m~\\AppData\\Local\\Temp\\ipykernel_34396\\309529808.py\u001b[0m in \u001b[0;36m<module>\u001b[1;34m\u001b[0m\n\u001b[0;32m      3\u001b[0m     \u001b[1;32mfor\u001b[0m \u001b[0mdigit\u001b[0m \u001b[1;32min\u001b[0m \u001b[0mvalue\u001b[0m\u001b[1;33m:\u001b[0m\u001b[1;33m\u001b[0m\u001b[1;33m\u001b[0m\u001b[0m\n\u001b[0;32m      4\u001b[0m         \u001b[1;32mif\u001b[0m \u001b[0mdigit\u001b[0m \u001b[1;32mnot\u001b[0m \u001b[1;32min\u001b[0m \u001b[1;34m\"0123456789\"\u001b[0m\u001b[1;33m:\u001b[0m\u001b[1;33m\u001b[0m\u001b[1;33m\u001b[0m\u001b[0m\n\u001b[1;32m----> 5\u001b[1;33m             \u001b[1;32mraise\u001b[0m \u001b[0mValueError\u001b[0m\u001b[1;33m(\u001b[0m\u001b[1;34m\"정수가 아님\"\u001b[0m\u001b[1;33m)\u001b[0m\u001b[1;33m\u001b[0m\u001b[1;33m\u001b[0m\u001b[0m\n\u001b[0m\u001b[0;32m      6\u001b[0m         \u001b[0mprint\u001b[0m\u001b[1;33m(\u001b[0m\u001b[1;34m\"정수로 변환된 숫자\"\u001b[0m\u001b[1;33m,\u001b[0m \u001b[0mint\u001b[0m\u001b[1;33m(\u001b[0m\u001b[0mvalue\u001b[0m\u001b[1;33m)\u001b[0m\u001b[1;33m)\u001b[0m\u001b[1;33m\u001b[0m\u001b[1;33m\u001b[0m\u001b[0m\n",
      "\u001b[1;31mValueError\u001b[0m: 정수가 아님"
     ]
    }
   ],
   "source": [
    "while True:\n",
    "    value = input(\"정수값 입력\")\n",
    "    for digit in value:\n",
    "        if digit not in \"0123456789\":\n",
    "            raise ValueError(\"정수가 아님\")\n",
    "        print(\"정수로 변환된 숫자\", int(value))"
   ]
  },
  {
   "cell_type": "markdown",
   "id": "0e72baee",
   "metadata": {},
   "source": [
    "## assert 구문"
   ]
  },
  {
   "cell_type": "code",
   "execution_count": 8,
   "id": "0bc44e3e",
   "metadata": {},
   "outputs": [],
   "source": [
    "def get_binary_number(decimal_number : int):\n",
    "    assert isinstance(decimal_number, int)\n",
    "    return bin(decimal_number)"
   ]
  },
  {
   "cell_type": "code",
   "execution_count": 9,
   "id": "b12769c0",
   "metadata": {},
   "outputs": [
    {
     "name": "stdout",
     "output_type": "stream",
     "text": [
      "0b1010\n"
     ]
    }
   ],
   "source": [
    "print(get_binary_number(10))"
   ]
  },
  {
   "cell_type": "code",
   "execution_count": 10,
   "id": "66054cd6",
   "metadata": {},
   "outputs": [
    {
     "name": "stdout",
     "output_type": "stream",
     "text": [
      "0b10\n"
     ]
    }
   ],
   "source": [
    "print(get_binary_number(2))"
   ]
  },
  {
   "cell_type": "markdown",
   "id": "1170da26",
   "metadata": {},
   "source": [
    "# 2. File Handling"
   ]
  },
  {
   "cell_type": "markdown",
   "id": "422386d6",
   "metadata": {},
   "source": [
    "### 파일 열기"
   ]
  },
  {
   "cell_type": "markdown",
   "id": "1ca3ea2d",
   "metadata": {},
   "source": [
    "f = open('<파일이름>', '접근 모드') #r: 읽기모드 / w: 쓰기모드 a: 추가모드\n",
    "f.close"
   ]
  },
  {
   "cell_type": "markdown",
   "id": "14cbe2f8",
   "metadata": {},
   "source": [
    "### read() txt"
   ]
  },
  {
   "cell_type": "code",
   "execution_count": 12,
   "id": "5a174326",
   "metadata": {},
   "outputs": [
    {
     "name": "stdout",
     "output_type": "stream",
     "text": [
      "asdasdasd\n"
     ]
    }
   ],
   "source": [
    "f = open('test.txt', 'r')\n",
    "contents = f.read() #파일을 읽어 변수에 저장\n",
    "print(contents)\n",
    "f.close() # 파일 닫기"
   ]
  },
  {
   "cell_type": "markdown",
   "id": "1af09f2c",
   "metadata": {},
   "source": [
    "### with 구문으로 불러오기"
   ]
  },
  {
   "cell_type": "code",
   "execution_count": 15,
   "id": "03eebee5",
   "metadata": {},
   "outputs": [
    {
     "name": "stdout",
     "output_type": "stream",
     "text": [
      "<class 'str'> asdasdasd\n"
     ]
    }
   ],
   "source": [
    "with open('test.txt', 'r') as my_file:\n",
    "    contents = my_file.read()\n",
    "    print(type(contents), contents)"
   ]
  },
  {
   "cell_type": "markdown",
   "id": "847784f1",
   "metadata": {},
   "source": [
    "### readlines : 텍스트 파일 한 줄씩 리스트로 반환하기"
   ]
  },
  {
   "cell_type": "code",
   "execution_count": 16,
   "id": "9f22de13",
   "metadata": {},
   "outputs": [
    {
     "name": "stdout",
     "output_type": "stream",
     "text": [
      "<class 'list'> ['asdasdasd\\n', 'asd\\n', 'asd\\n', 'as\\n', 'dasd\\n', 'asbh\\n', 'agf\\n', 'a\\n', 'hf\\n', 'has']\n"
     ]
    }
   ],
   "source": [
    "with open('test.txt', 'r') as my_file:\n",
    "    contents = my_file.readlines()\n",
    "    print(type(contents), contents)"
   ]
  },
  {
   "cell_type": "code",
   "execution_count": 17,
   "id": "658abcd1",
   "metadata": {
    "scrolled": true
   },
   "outputs": [
    {
     "name": "stdout",
     "output_type": "stream",
     "text": [
      "asd\n",
      "\n"
     ]
    }
   ],
   "source": [
    "print(contents[1])"
   ]
  },
  {
   "cell_type": "code",
   "execution_count": 19,
   "id": "55464b31",
   "metadata": {},
   "outputs": [
    {
     "name": "stdout",
     "output_type": "stream",
     "text": [
      "0 === asdasdasd\n",
      "1 === asd\n",
      "2 === asd\n",
      "3 === as\n",
      "4 === dasd\n",
      "5 === asbh\n",
      "6 === agf\n",
      "7 === a\n",
      "8 === hf\n",
      "9 === has\n"
     ]
    }
   ],
   "source": [
    "with open('test.txt', 'r') as my_file:\n",
    "    i = 0\n",
    "    while True:\n",
    "        line = my_file.readline()\n",
    "        if not line:\n",
    "            break\n",
    "        print(str(i) + ' === ' + line.replace('\\n', ''))\n",
    "        i = i+1"
   ]
  },
  {
   "cell_type": "markdown",
   "id": "5d7b3c16",
   "metadata": {},
   "source": [
    "### ex) 단어 통계"
   ]
  },
  {
   "cell_type": "code",
   "execution_count": 23,
   "id": "3928f27b",
   "metadata": {},
   "outputs": [
    {
     "name": "stdout",
     "output_type": "stream",
     "text": [
      "글자수: 43\n",
      "단어수: 1\n",
      "줄수: 10\n"
     ]
    }
   ],
   "source": [
    "with open('test.txt', 'r') as my_file:\n",
    "    contents = my_file.read()\n",
    "    word_list = contents.split(' ')\n",
    "    line_list = contents.split('\\n')\n",
    "    \n",
    "print('글자수:', len(contents))\n",
    "print('단어수:', len(word_list))\n",
    "print('줄수:', len(line_list))"
   ]
  },
  {
   "cell_type": "markdown",
   "id": "a3d41bd2",
   "metadata": {},
   "source": [
    "# 파일 쓰기"
   ]
  },
  {
   "cell_type": "code",
   "execution_count": 24,
   "id": "cc54ff4a",
   "metadata": {},
   "outputs": [],
   "source": [
    "f = open('count_log.txt', 'w', encoding='utf8') # 새로 쓰기\n",
    "for i in range(1, 11):\n",
    "    data = '%d번째 줄입니다.\\n' % i\n",
    "    f.write(data)\n",
    "f.close()"
   ]
  },
  {
   "cell_type": "code",
   "execution_count": 25,
   "id": "e7a71c0e",
   "metadata": {},
   "outputs": [],
   "source": [
    "f = open('count_log.txt', 'a', encoding='utf8') # 덮어쓰기\n",
    "for i in range(11, 21):\n",
    "    data = '%d번째 줄입니다.\\n' % i\n",
    "    f.write(data)\n",
    "f.close()"
   ]
  },
  {
   "cell_type": "markdown",
   "id": "26787714",
   "metadata": {},
   "source": [
    "# OS module"
   ]
  },
  {
   "cell_type": "code",
   "execution_count": 27,
   "id": "5ee0dfb6",
   "metadata": {},
   "outputs": [],
   "source": [
    "import os\n",
    "os.mkdir('log123') # 폴더 만들기"
   ]
  },
  {
   "cell_type": "code",
   "execution_count": 29,
   "id": "43b4f90a",
   "metadata": {},
   "outputs": [
    {
     "name": "stdout",
     "output_type": "stream",
     "text": [
      "Already creadted\n"
     ]
    }
   ],
   "source": [
    "try:\n",
    "    os.mkdir('abc')\n",
    "except FileExistsError as e:\n",
    "    print('Already creadted')"
   ]
  },
  {
   "cell_type": "code",
   "execution_count": 31,
   "id": "86cde33d",
   "metadata": {},
   "outputs": [
    {
     "data": {
      "text/plain": [
       "True"
      ]
     },
     "execution_count": 31,
     "metadata": {},
     "output_type": "execute_result"
    }
   ],
   "source": [
    "os.path.exists('abc') # 폴더가 있는지 확인"
   ]
  },
  {
   "cell_type": "code",
   "execution_count": 33,
   "id": "0196015f",
   "metadata": {},
   "outputs": [
    {
     "data": {
      "text/plain": [
       "True"
      ]
     },
     "execution_count": 33,
     "metadata": {},
     "output_type": "execute_result"
    }
   ],
   "source": [
    "os.path.isfile('Untitled1.ipynb') # 파일이 있는지 확인"
   ]
  },
  {
   "cell_type": "markdown",
   "id": "1b58f2cf",
   "metadata": {},
   "source": [
    "### join 구문"
   ]
  },
  {
   "cell_type": "code",
   "execution_count": 34,
   "id": "f8b098a7",
   "metadata": {},
   "outputs": [
    {
     "data": {
      "text/plain": [
       "'log\\\\test1.txt'"
      ]
     },
     "execution_count": 34,
     "metadata": {},
     "output_type": "execute_result"
    }
   ],
   "source": [
    "import shutil\n",
    "\n",
    "source = 'test.txt'\n",
    "dest = os.path.join('log', 'test1.txt')\n",
    "shutil.copy(source, dest)"
   ]
  },
  {
   "cell_type": "markdown",
   "id": "5d3d075c",
   "metadata": {},
   "source": [
    "# pathlib"
   ]
  },
  {
   "cell_type": "code",
   "execution_count": 35,
   "id": "6fca9e71",
   "metadata": {},
   "outputs": [],
   "source": [
    "import pathlib"
   ]
  },
  {
   "cell_type": "code",
   "execution_count": 38,
   "id": "b5f68f54",
   "metadata": {},
   "outputs": [
    {
     "data": {
      "text/plain": [
       "WindowsPath('C:/Users/hk/Desktop/AI')"
      ]
     },
     "execution_count": 38,
     "metadata": {},
     "output_type": "execute_result"
    }
   ],
   "source": [
    "cwd = pathlib.Path.cwd() #current working directory\n",
    "cwd"
   ]
  },
  {
   "cell_type": "code",
   "execution_count": 39,
   "id": "37f7667a",
   "metadata": {},
   "outputs": [
    {
     "data": {
      "text/plain": [
       "WindowsPath('C:/Users/hk/Desktop')"
      ]
     },
     "execution_count": 39,
     "metadata": {},
     "output_type": "execute_result"
    }
   ],
   "source": [
    "cwd.parent"
   ]
  },
  {
   "cell_type": "code",
   "execution_count": 40,
   "id": "a83626d7",
   "metadata": {},
   "outputs": [
    {
     "data": {
      "text/plain": [
       "WindowsPath('C:/Users/hk')"
      ]
     },
     "execution_count": 40,
     "metadata": {},
     "output_type": "execute_result"
    }
   ],
   "source": [
    "cwd.parent.parent"
   ]
  },
  {
   "cell_type": "code",
   "execution_count": 42,
   "id": "00a0461b",
   "metadata": {},
   "outputs": [
    {
     "data": {
      "text/plain": [
       "[WindowsPath('C:/Users/hk'), WindowsPath('C:/Users'), WindowsPath('C:/')]"
      ]
     },
     "execution_count": 42,
     "metadata": {},
     "output_type": "execute_result"
    }
   ],
   "source": [
    "list(cwd.parent.parents)"
   ]
  },
  {
   "cell_type": "markdown",
   "id": "9eb08f5c",
   "metadata": {},
   "source": [
    "# ex) log 파일 생성하기"
   ]
  },
  {
   "cell_type": "code",
   "execution_count": 44,
   "id": "62eeaf1a",
   "metadata": {},
   "outputs": [],
   "source": [
    "import os\n",
    "if not os.path.isdir('log'):\n",
    "    os.mkdir('log')\n",
    "if not os.path.exists('log/count_log.txt'):\n",
    "    f  = open('log/count_lig.txt', 'w', encoding='utf8')\n",
    "    f.write(\"기록이 시작됩니다\\n\")\n",
    "    f.close()"
   ]
  },
  {
   "cell_type": "code",
   "execution_count": 54,
   "id": "3ac0a309",
   "metadata": {},
   "outputs": [],
   "source": [
    "with open('log/count_log.txt', 'a', encoding='utf8') as f:\n",
    "    import random, datetime\n",
    "    for i in range(1, 11):\n",
    "        stamp = str(datetime.datetime.now())\n",
    "        value = random.random() * 1000000\n",
    "        log_line = stamp + '\\t' + str(value) + '값이 생성되었습니다' + '\\n'\n",
    "        f.write(log_line)"
   ]
  },
  {
   "cell_type": "markdown",
   "id": "6168fe52",
   "metadata": {},
   "source": [
    "# Pickle"
   ]
  },
  {
   "cell_type": "markdown",
   "id": "07619a25",
   "metadata": {},
   "source": [
    "파이썬 객체 영속화"
   ]
  },
  {
   "cell_type": "code",
   "execution_count": 55,
   "id": "a4bf5d3e",
   "metadata": {},
   "outputs": [],
   "source": [
    "import pickle\n",
    "\n",
    "f = open('list.pickle', 'wb')\n",
    "test = [1, 2, 3, 4, 5]\n",
    "pickle.dump(test, f)\n",
    "f.close()"
   ]
  },
  {
   "cell_type": "markdown",
   "id": "7823943e",
   "metadata": {},
   "source": [
    "# Log Handling"
   ]
  },
  {
   "cell_type": "code",
   "execution_count": 57,
   "id": "5b317d13",
   "metadata": {},
   "outputs": [
    {
     "name": "stderr",
     "output_type": "stream",
     "text": [
      "WARNING:root:조심해\n",
      "ERROR:root:에러났어\n",
      "CRITICAL:root:꺅\n"
     ]
    }
   ],
   "source": [
    "import logging\n",
    "\n",
    "logging.debug('틀렸잖아')\n",
    "logging.info('확인해')\n",
    "logging.warning('조심해')\n",
    "logging.error('에러났어')\n",
    "logging.critical('꺅')"
   ]
  }
 ],
 "metadata": {
  "kernelspec": {
   "display_name": "Python 3 (ipykernel)",
   "language": "python",
   "name": "python3"
  },
  "language_info": {
   "codemirror_mode": {
    "name": "ipython",
    "version": 3
   },
   "file_extension": ".py",
   "mimetype": "text/x-python",
   "name": "python",
   "nbconvert_exporter": "python",
   "pygments_lexer": "ipython3",
   "version": "3.9.13"
  }
 },
 "nbformat": 4,
 "nbformat_minor": 5
}
